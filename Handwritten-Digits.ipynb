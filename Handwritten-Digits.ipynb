{
 "cells": [
  {
   "cell_type": "markdown",
   "source": [
    "# Train a model to recognize handwritten digits from the MNIST data set use gradient descent to train the model"
   ],
   "metadata": {
    "collapsed": false
   }
  },
  {
   "cell_type": "code",
   "execution_count": 3,
   "outputs": [],
   "source": [
    "# Import the libraries we need for this lab\n",
    "from torch import nn\n",
    "from torch.nn import functional as F\n",
    "from torch.utils.data import DataLoader, random_split\n",
    "from torchvision import datasets, transforms\n",
    "import torch\n",
    "import os\n",
    "import matplotlib.pyplot as plt\n",
    "import numpy as np\n",
    "import polars as pd"
   ],
   "metadata": {
    "collapsed": false,
    "ExecuteTime": {
     "end_time": "2023-07-09T17:49:40.149233500Z",
     "start_time": "2023-07-09T17:49:39.947800700Z"
    }
   }
  },
  {
   "cell_type": "markdown",
   "source": [
    "# Load the data set"
   ],
   "metadata": {
    "collapsed": false
   }
  },
  {
   "cell_type": "code",
   "execution_count": 4,
   "outputs": [
    {
     "name": "stdout",
     "output_type": "stream",
     "text": [
      "Downloading http://yann.lecun.com/exdb/mnist/train-images-idx3-ubyte.gz\n",
      "Downloading http://yann.lecun.com/exdb/mnist/train-images-idx3-ubyte.gz to data/MNIST\\raw\\train-images-idx3-ubyte.gz\n"
     ]
    },
    {
     "name": "stderr",
     "output_type": "stream",
     "text": [
      "100%|██████████| 9912422/9912422 [00:00<00:00, 44130561.86it/s]\n"
     ]
    },
    {
     "name": "stdout",
     "output_type": "stream",
     "text": [
      "Extracting data/MNIST\\raw\\train-images-idx3-ubyte.gz to data/MNIST\\raw\n",
      "\n",
      "Downloading http://yann.lecun.com/exdb/mnist/train-labels-idx1-ubyte.gz\n",
      "Downloading http://yann.lecun.com/exdb/mnist/train-labels-idx1-ubyte.gz to data/MNIST\\raw\\train-labels-idx1-ubyte.gz\n"
     ]
    },
    {
     "name": "stderr",
     "output_type": "stream",
     "text": [
      "100%|██████████| 28881/28881 [00:00<00:00, 10699142.72it/s]"
     ]
    },
    {
     "name": "stdout",
     "output_type": "stream",
     "text": [
      "Extracting data/MNIST\\raw\\train-labels-idx1-ubyte.gz to data/MNIST\\raw\n",
      "\n",
      "Downloading http://yann.lecun.com/exdb/mnist/t10k-images-idx3-ubyte.gz\n",
      "Downloading http://yann.lecun.com/exdb/mnist/t10k-images-idx3-ubyte.gz to data/MNIST\\raw\\t10k-images-idx3-ubyte.gz\n"
     ]
    },
    {
     "name": "stderr",
     "output_type": "stream",
     "text": [
      "\n",
      "100%|██████████| 1648877/1648877 [00:00<00:00, 21967066.02it/s]\n"
     ]
    },
    {
     "name": "stdout",
     "output_type": "stream",
     "text": [
      "Extracting data/MNIST\\raw\\t10k-images-idx3-ubyte.gz to data/MNIST\\raw\n",
      "\n",
      "Downloading http://yann.lecun.com/exdb/mnist/t10k-labels-idx1-ubyte.gz\n",
      "Downloading http://yann.lecun.com/exdb/mnist/t10k-labels-idx1-ubyte.gz to data/MNIST\\raw\\t10k-labels-idx1-ubyte.gz\n"
     ]
    },
    {
     "name": "stderr",
     "output_type": "stream",
     "text": [
      "100%|██████████| 4542/4542 [00:00<00:00, 2257706.66it/s]"
     ]
    },
    {
     "name": "stdout",
     "output_type": "stream",
     "text": [
      "Extracting data/MNIST\\raw\\t10k-labels-idx1-ubyte.gz to data/MNIST\\raw\n",
      "\n"
     ]
    },
    {
     "name": "stderr",
     "output_type": "stream",
     "text": [
      "\n"
     ]
    }
   ],
   "source": [
    "# Download the data and apply some transformations\n",
    "dataset = datasets.MNIST('data/', train=True, download=True, transform=transforms.ToTensor())\n",
    "test_dataset = datasets.MNIST('data/', train=False, download=True, transform=transforms.ToTensor())\n",
    "# Split the data into training and validation data sets\n",
    "train_ds, val_ds = random_split(dataset, [50000, 10000])\n",
    "# Create data loaders to load the data in batches\n",
    "train_loader = DataLoader(train_ds, batch_size=32)\n",
    "val_loader = DataLoader(val_ds, batch_size=32)\n",
    "test_loader = DataLoader(test_dataset, batch_size=32)"
   ],
   "metadata": {
    "collapsed": false,
    "ExecuteTime": {
     "end_time": "2023-07-09T17:49:42.159075Z",
     "start_time": "2023-07-09T17:49:40.097125700Z"
    }
   }
  },
  {
   "cell_type": "markdown",
   "source": [
    "# Define the model"
   ],
   "metadata": {
    "collapsed": false
   }
  },
  {
   "cell_type": "code",
   "execution_count": 5,
   "outputs": [],
   "source": [
    "def get_model():\n",
    "    model = nn.Sequential(\n",
    "        nn.Linear(28 * 28, 64),\n",
    "        nn.ReLU(),\n",
    "        nn.Linear(64, 64),\n",
    "        nn.ReLU(),\n",
    "        nn.Linear(64, 10)\n",
    "    )\n",
    "    return model"
   ],
   "metadata": {
    "collapsed": false,
    "ExecuteTime": {
     "end_time": "2023-07-09T17:49:42.159075Z",
     "start_time": "2023-07-09T17:49:42.057101Z"
    }
   }
  },
  {
   "cell_type": "markdown",
   "source": [
    "# Train the model"
   ],
   "metadata": {
    "collapsed": false
   }
  },
  {
   "cell_type": "code",
   "execution_count": 6,
   "outputs": [],
   "source": [
    "model = get_model()\n",
    "# Define the loss function\n",
    "loss_fn = F.cross_entropy\n",
    "# Define the optimizer\n",
    "optimizer = torch.optim.SGD(model.parameters(), lr=1e-2)\n",
    "# Define the training loop\n",
    "def train(dataloader, model, loss_fn, optimizer):\n",
    "    size = len(dataloader.dataset)\n",
    "    for batch, (X, y) in enumerate(dataloader):\n",
    "        # Compute prediction and loss\n",
    "        pred = model(X.view(X.shape[0], -1))\n",
    "        loss = loss_fn(pred, y)\n",
    "        # Backpropagation\n",
    "        optimizer.zero_grad()\n",
    "        loss.backward()\n",
    "        optimizer.step()\n",
    "        if batch % 100 == 0:\n",
    "            loss, current = loss.item(), batch * len(X)\n",
    "            print(f\"loss: {loss:>7f}  [{current:>5d}/{size:>5d}]\")"
   ],
   "metadata": {
    "collapsed": false,
    "ExecuteTime": {
     "end_time": "2023-07-09T17:49:42.159075Z",
     "start_time": "2023-07-09T17:49:42.086958300Z"
    }
   }
  },
  {
   "cell_type": "markdown",
   "source": [
    "# Evaluate the model"
   ],
   "metadata": {
    "collapsed": false
   }
  },
  {
   "cell_type": "code",
   "execution_count": 7,
   "outputs": [],
   "source": [
    "def test(dataloader, model):\n",
    "    size = len(dataloader.dataset)\n",
    "    model.eval()\n",
    "    test_loss, correct = 0, 0\n",
    "    with torch.no_grad():\n",
    "        for X, y in dataloader:\n",
    "            pred = model(X.view(X.shape[0], -1))\n",
    "            test_loss += loss_fn(pred, y).item()\n",
    "            correct += (pred.argmax(1) == y).type(torch.float).sum().item()\n",
    "    test_loss /= size\n",
    "    correct /= size\n",
    "    print(f\"Test Error: \\n Accuracy: {(100*correct):>0.1f}%, Avg loss: {test_loss:>8f} \\n\")"
   ],
   "metadata": {
    "collapsed": false,
    "ExecuteTime": {
     "end_time": "2023-07-09T17:49:42.159075Z",
     "start_time": "2023-07-09T17:49:42.134836800Z"
    }
   }
  },
  {
   "cell_type": "markdown",
   "source": [
    "# Train the model for 10 epochs"
   ],
   "metadata": {
    "collapsed": false
   }
  },
  {
   "cell_type": "code",
   "execution_count": 8,
   "outputs": [
    {
     "name": "stdout",
     "output_type": "stream",
     "text": [
      "Epoch 1\n",
      "-------------------------------\n",
      "loss: 2.310808  [    0/50000]\n",
      "loss: 2.268224  [ 3200/50000]\n",
      "loss: 2.201190  [ 6400/50000]\n",
      "loss: 2.122779  [ 9600/50000]\n",
      "loss: 2.024237  [12800/50000]\n",
      "loss: 1.730485  [16000/50000]\n",
      "loss: 1.583422  [19200/50000]\n",
      "loss: 1.160181  [22400/50000]\n",
      "loss: 1.000717  [25600/50000]\n",
      "loss: 0.984336  [28800/50000]\n",
      "loss: 0.981970  [32000/50000]\n",
      "loss: 0.674168  [35200/50000]\n",
      "loss: 0.576816  [38400/50000]\n",
      "loss: 0.371876  [41600/50000]\n",
      "loss: 0.587938  [44800/50000]\n",
      "loss: 0.513431  [48000/50000]\n",
      "Test Error: \n",
      " Accuracy: 85.8%, Avg loss: 0.016067 \n",
      "\n",
      "Epoch 2\n",
      "-------------------------------\n",
      "loss: 0.488114  [    0/50000]\n",
      "loss: 0.598683  [ 3200/50000]\n",
      "loss: 0.346651  [ 6400/50000]\n",
      "loss: 0.331094  [ 9600/50000]\n",
      "loss: 0.309018  [12800/50000]\n",
      "loss: 0.278146  [16000/50000]\n",
      "loss: 0.318954  [19200/50000]\n",
      "loss: 0.360758  [22400/50000]\n",
      "loss: 0.378022  [25600/50000]\n",
      "loss: 0.648991  [28800/50000]\n",
      "loss: 0.554439  [32000/50000]\n",
      "loss: 0.379883  [35200/50000]\n",
      "loss: 0.260685  [38400/50000]\n",
      "loss: 0.182387  [41600/50000]\n",
      "loss: 0.537809  [44800/50000]\n",
      "loss: 0.312109  [48000/50000]\n",
      "Test Error: \n",
      " Accuracy: 89.8%, Avg loss: 0.011414 \n",
      "\n",
      "Epoch 3\n",
      "-------------------------------\n",
      "loss: 0.281161  [    0/50000]\n",
      "loss: 0.491105  [ 3200/50000]\n",
      "loss: 0.229602  [ 6400/50000]\n",
      "loss: 0.253314  [ 9600/50000]\n",
      "loss: 0.217735  [12800/50000]\n",
      "loss: 0.181264  [16000/50000]\n",
      "loss: 0.236599  [19200/50000]\n",
      "loss: 0.276991  [22400/50000]\n",
      "loss: 0.317384  [25600/50000]\n",
      "loss: 0.582613  [28800/50000]\n",
      "loss: 0.539235  [32000/50000]\n",
      "loss: 0.311084  [35200/50000]\n",
      "loss: 0.212772  [38400/50000]\n",
      "loss: 0.159147  [41600/50000]\n",
      "loss: 0.500292  [44800/50000]\n",
      "loss: 0.249868  [48000/50000]\n",
      "Test Error: \n",
      " Accuracy: 91.3%, Avg loss: 0.009921 \n",
      "\n",
      "Epoch 4\n",
      "-------------------------------\n",
      "loss: 0.220866  [    0/50000]\n",
      "loss: 0.455622  [ 3200/50000]\n",
      "loss: 0.190708  [ 6400/50000]\n",
      "loss: 0.219044  [ 9600/50000]\n",
      "loss: 0.182533  [12800/50000]\n",
      "loss: 0.138363  [16000/50000]\n",
      "loss: 0.224116  [19200/50000]\n",
      "loss: 0.229905  [22400/50000]\n",
      "loss: 0.275661  [25600/50000]\n",
      "loss: 0.543645  [28800/50000]\n",
      "loss: 0.524051  [32000/50000]\n",
      "loss: 0.266522  [35200/50000]\n",
      "loss: 0.187343  [38400/50000]\n",
      "loss: 0.154849  [41600/50000]\n",
      "loss: 0.461457  [44800/50000]\n",
      "loss: 0.213677  [48000/50000]\n",
      "Test Error: \n",
      " Accuracy: 92.0%, Avg loss: 0.008987 \n",
      "\n",
      "Epoch 5\n",
      "-------------------------------\n",
      "loss: 0.181174  [    0/50000]\n",
      "loss: 0.422189  [ 3200/50000]\n",
      "loss: 0.165400  [ 6400/50000]\n",
      "loss: 0.191698  [ 9600/50000]\n",
      "loss: 0.159888  [12800/50000]\n",
      "loss: 0.118663  [16000/50000]\n",
      "loss: 0.219506  [19200/50000]\n",
      "loss: 0.208549  [22400/50000]\n",
      "loss: 0.251932  [25600/50000]\n",
      "loss: 0.510502  [28800/50000]\n",
      "loss: 0.498753  [32000/50000]\n",
      "loss: 0.235468  [35200/50000]\n",
      "loss: 0.170872  [38400/50000]\n",
      "loss: 0.154425  [41600/50000]\n",
      "loss: 0.424674  [44800/50000]\n",
      "loss: 0.191928  [48000/50000]\n",
      "Test Error: \n",
      " Accuracy: 92.5%, Avg loss: 0.008272 \n",
      "\n",
      "Epoch 6\n",
      "-------------------------------\n",
      "loss: 0.154913  [    0/50000]\n",
      "loss: 0.382095  [ 3200/50000]\n",
      "loss: 0.139522  [ 6400/50000]\n",
      "loss: 0.165808  [ 9600/50000]\n",
      "loss: 0.141510  [12800/50000]\n",
      "loss: 0.109644  [16000/50000]\n",
      "loss: 0.216113  [19200/50000]\n",
      "loss: 0.197324  [22400/50000]\n",
      "loss: 0.231632  [25600/50000]\n",
      "loss: 0.474641  [28800/50000]\n",
      "loss: 0.465066  [32000/50000]\n",
      "loss: 0.204970  [35200/50000]\n",
      "loss: 0.158292  [38400/50000]\n",
      "loss: 0.155591  [41600/50000]\n",
      "loss: 0.394517  [44800/50000]\n",
      "loss: 0.174353  [48000/50000]\n",
      "Test Error: \n",
      " Accuracy: 93.0%, Avg loss: 0.007637 \n",
      "\n",
      "Epoch 7\n",
      "-------------------------------\n",
      "loss: 0.137300  [    0/50000]\n",
      "loss: 0.344145  [ 3200/50000]\n",
      "loss: 0.113884  [ 6400/50000]\n",
      "loss: 0.143486  [ 9600/50000]\n",
      "loss: 0.122667  [12800/50000]\n",
      "loss: 0.101672  [16000/50000]\n",
      "loss: 0.209498  [19200/50000]\n",
      "loss: 0.190468  [22400/50000]\n",
      "loss: 0.214998  [25600/50000]\n",
      "loss: 0.450867  [28800/50000]\n",
      "loss: 0.425065  [32000/50000]\n",
      "loss: 0.174202  [35200/50000]\n",
      "loss: 0.145133  [38400/50000]\n",
      "loss: 0.157024  [41600/50000]\n",
      "loss: 0.366618  [44800/50000]\n",
      "loss: 0.143001  [48000/50000]\n",
      "Test Error: \n",
      " Accuracy: 93.6%, Avg loss: 0.007085 \n",
      "\n",
      "Epoch 8\n",
      "-------------------------------\n",
      "loss: 0.126822  [    0/50000]\n",
      "loss: 0.309141  [ 3200/50000]\n",
      "loss: 0.084349  [ 6400/50000]\n",
      "loss: 0.123657  [ 9600/50000]\n",
      "loss: 0.103608  [12800/50000]\n",
      "loss: 0.096890  [16000/50000]\n",
      "loss: 0.206532  [19200/50000]\n",
      "loss: 0.182102  [22400/50000]\n",
      "loss: 0.198164  [25600/50000]\n",
      "loss: 0.437165  [28800/50000]\n",
      "loss: 0.381597  [32000/50000]\n",
      "loss: 0.147513  [35200/50000]\n",
      "loss: 0.131507  [38400/50000]\n",
      "loss: 0.154379  [41600/50000]\n",
      "loss: 0.343840  [44800/50000]\n",
      "loss: 0.123981  [48000/50000]\n",
      "Test Error: \n",
      " Accuracy: 94.0%, Avg loss: 0.006590 \n",
      "\n",
      "Epoch 9\n",
      "-------------------------------\n",
      "loss: 0.120060  [    0/50000]\n",
      "loss: 0.279450  [ 3200/50000]\n",
      "loss: 0.063126  [ 6400/50000]\n",
      "loss: 0.104428  [ 9600/50000]\n",
      "loss: 0.090036  [12800/50000]\n",
      "loss: 0.090032  [16000/50000]\n",
      "loss: 0.206526  [19200/50000]\n",
      "loss: 0.180223  [22400/50000]\n",
      "loss: 0.185961  [25600/50000]\n",
      "loss: 0.425767  [28800/50000]\n",
      "loss: 0.339938  [32000/50000]\n",
      "loss: 0.125962  [35200/50000]\n",
      "loss: 0.118709  [38400/50000]\n",
      "loss: 0.148655  [41600/50000]\n",
      "loss: 0.314871  [44800/50000]\n",
      "loss: 0.114463  [48000/50000]\n",
      "Test Error: \n",
      " Accuracy: 94.3%, Avg loss: 0.006162 \n",
      "\n",
      "Epoch 10\n",
      "-------------------------------\n",
      "loss: 0.113171  [    0/50000]\n",
      "loss: 0.247369  [ 3200/50000]\n",
      "loss: 0.048516  [ 6400/50000]\n",
      "loss: 0.088160  [ 9600/50000]\n",
      "loss: 0.078564  [12800/50000]\n",
      "loss: 0.083978  [16000/50000]\n",
      "loss: 0.205273  [19200/50000]\n",
      "loss: 0.178842  [22400/50000]\n",
      "loss: 0.177753  [25600/50000]\n",
      "loss: 0.414190  [28800/50000]\n",
      "loss: 0.294309  [32000/50000]\n",
      "loss: 0.109560  [35200/50000]\n",
      "loss: 0.108320  [38400/50000]\n",
      "loss: 0.148243  [41600/50000]\n",
      "loss: 0.296420  [44800/50000]\n",
      "loss: 0.105555  [48000/50000]\n",
      "Test Error: \n",
      " Accuracy: 94.6%, Avg loss: 0.005783 \n",
      "\n",
      "Done!\n"
     ]
    }
   ],
   "source": [
    "epochs = 10\n",
    "for t in range(epochs):\n",
    "    print(f\"Epoch {t+1}\\n-------------------------------\")\n",
    "    train(train_loader, model, loss_fn, optimizer)\n",
    "    test(val_loader, model)\n",
    "print(\"Done!\")"
   ],
   "metadata": {
    "collapsed": false,
    "ExecuteTime": {
     "end_time": "2023-07-09T17:52:58.695795300Z",
     "start_time": "2023-07-09T17:49:42.142934900Z"
    }
   }
  },
  {
   "cell_type": "markdown",
   "source": [
    "# Save the model"
   ],
   "metadata": {
    "collapsed": false
   }
  },
  {
   "cell_type": "code",
   "execution_count": 9,
   "outputs": [
    {
     "name": "stdout",
     "output_type": "stream",
     "text": [
      "Saved PyTorch Model State to mnist_model.pth\n"
     ]
    }
   ],
   "source": [
    "torch.save(model.state_dict(), \"mnist_model.pth\")\n",
    "print(\"Saved PyTorch Model State to mnist_model.pth\")"
   ],
   "metadata": {
    "collapsed": false,
    "ExecuteTime": {
     "end_time": "2023-07-09T17:52:58.725719100Z",
     "start_time": "2023-07-09T17:52:58.699326200Z"
    }
   }
  },
  {
   "cell_type": "markdown",
   "source": [
    "# Load the model"
   ],
   "metadata": {
    "collapsed": false
   }
  },
  {
   "cell_type": "code",
   "execution_count": 10,
   "outputs": [
    {
     "data": {
      "text/plain": "<All keys matched successfully>"
     },
     "execution_count": 10,
     "metadata": {},
     "output_type": "execute_result"
    }
   ],
   "source": [
    "model = get_model()\n",
    "model.load_state_dict(torch.load(\"mnist_model.pth\"))"
   ],
   "metadata": {
    "collapsed": false,
    "ExecuteTime": {
     "end_time": "2023-07-09T17:52:58.999696500Z",
     "start_time": "2023-07-09T17:52:58.731272200Z"
    }
   }
  },
  {
   "cell_type": "markdown",
   "source": [
    "# Evaluate the model on the test data set"
   ],
   "metadata": {
    "collapsed": false
   }
  },
  {
   "cell_type": "code",
   "execution_count": 11,
   "outputs": [
    {
     "name": "stdout",
     "output_type": "stream",
     "text": [
      "Test Error: \n",
      " Accuracy: 94.9%, Avg loss: 0.005511 \n",
      "\n"
     ]
    }
   ],
   "source": [
    "test(test_loader, model)"
   ],
   "metadata": {
    "collapsed": false,
    "ExecuteTime": {
     "end_time": "2023-07-09T17:53:01.636906100Z",
     "start_time": "2023-07-09T17:52:58.767136600Z"
    }
   }
  },
  {
   "cell_type": "markdown",
   "source": [],
   "metadata": {
    "collapsed": false
   }
  },
  {
   "cell_type": "markdown",
   "source": [
    "# Make predictions on a single image from the test data set"
   ],
   "metadata": {
    "collapsed": false
   }
  },
  {
   "cell_type": "code",
   "execution_count": 12,
   "outputs": [
    {
     "name": "stdout",
     "output_type": "stream",
     "text": [
      "Shape: torch.Size([1, 28, 28])\n"
     ]
    },
    {
     "data": {
      "text/plain": "<Figure size 640x480 with 1 Axes>",
      "image/png": "[encoded data removed]"
     },
     "metadata": {},
     "output_type": "display_data"
    }
   ],
   "source": [
    "# Pick a random test example\n",
    "img, label = test_dataset[0]\n",
    "plt.imshow(img[0], cmap='gray')\n",
    "print('Shape:', img.shape)"
   ],
   "metadata": {
    "collapsed": false,
    "ExecuteTime": {
     "end_time": "2023-07-09T17:54:09.865067800Z",
     "start_time": "2023-07-09T17:54:09.356837700Z"
    }
   }
  },
  {
   "cell_type": "markdown",
   "source": [],
   "metadata": {
    "collapsed": false
   }
  },
  {
   "cell_type": "markdown",
   "source": [
    "# Add a batch dimension"
   ],
   "metadata": {
    "collapsed": false
   }
  },
  {
   "cell_type": "code",
   "execution_count": 13,
   "outputs": [
    {
     "name": "stdout",
     "output_type": "stream",
     "text": [
      "Shape: torch.Size([1, 1, 28, 28])\n"
     ]
    }
   ],
   "source": [
    "img.unsqueeze_(0)\n",
    "print('Shape:', img.shape)"
   ],
   "metadata": {
    "collapsed": false,
    "ExecuteTime": {
     "end_time": "2023-07-09T17:54:26.935813200Z",
     "start_time": "2023-07-09T17:54:26.762319700Z"
    }
   }
  },
  {
   "cell_type": "markdown",
   "source": [
    "# Predict the digit using our model"
   ],
   "metadata": {
    "collapsed": false
   }
  },
  {
   "cell_type": "code",
   "execution_count": 14,
   "outputs": [
    {
     "name": "stdout",
     "output_type": "stream",
     "text": [
      "Predicted: 7\n"
     ]
    }
   ],
   "source": [
    "pred = model(img.view(img.shape[0], -1))\n",
    "print('Predicted:', pred.argmax(1).item())"
   ],
   "metadata": {
    "collapsed": false,
    "ExecuteTime": {
     "end_time": "2023-07-09T17:54:46.650357300Z",
     "start_time": "2023-07-09T17:54:46.489546100Z"
    }
   }
  },
  {
   "cell_type": "markdown",
   "source": [
    "# Make predictions on a batch of images"
   ],
   "metadata": {
    "collapsed": false
   }
  },
  {
   "cell_type": "code",
   "execution_count": 23,
   "outputs": [],
   "source": [
    "preds = model(img.view(img.shape[0], -1))"
   ],
   "metadata": {
    "collapsed": false,
    "ExecuteTime": {
     "end_time": "2023-07-09T17:59:52.480186800Z",
     "start_time": "2023-07-09T17:59:52.327114200Z"
    }
   }
  },
  {
   "cell_type": "code",
   "execution_count": 24,
   "outputs": [
    {
     "name": "stdout",
     "output_type": "stream",
     "text": [
      "torch.Size([32, 1, 28, 28])\n"
     ]
    },
    {
     "ename": "RuntimeError",
     "evalue": "mat1 and mat2 shapes cannot be multiplied (896x28 and 784x64)",
     "output_type": "error",
     "traceback": [
      "\u001B[1;31m---------------------------------------------------------------------------\u001B[0m",
      "\u001B[1;31mRuntimeError\u001B[0m                              Traceback (most recent call last)",
      "Cell \u001B[1;32mIn[24], line 3\u001B[0m\n\u001B[0;32m      1\u001B[0m \u001B[38;5;28;01mfor\u001B[39;00m img, label \u001B[38;5;129;01min\u001B[39;00m test_loader:\n\u001B[0;32m      2\u001B[0m     \u001B[38;5;28mprint\u001B[39m(img\u001B[38;5;241m.\u001B[39mshape)\n\u001B[1;32m----> 3\u001B[0m     preds \u001B[38;5;241m=\u001B[39m \u001B[43mmodel\u001B[49m\u001B[43m(\u001B[49m\u001B[43mimg\u001B[49m\u001B[43m)\u001B[49m\n\u001B[0;32m      4\u001B[0m     \u001B[38;5;28;01mbreak\u001B[39;00m\n\u001B[0;32m      5\u001B[0m \u001B[38;5;28mprint\u001B[39m(\u001B[38;5;124m\"\u001B[39m\u001B[38;5;124mPredicted:\u001B[39m\u001B[38;5;124m\"\u001B[39m, preds\u001B[38;5;241m.\u001B[39margmax(\u001B[38;5;241m1\u001B[39m))\n",
      "File \u001B[1;32m~\\AppData\\Local\\Programs\\Python\\Python39\\lib\\site-packages\\torch\\nn\\modules\\module.py:1501\u001B[0m, in \u001B[0;36mModule._call_impl\u001B[1;34m(self, *args, **kwargs)\u001B[0m\n\u001B[0;32m   1496\u001B[0m \u001B[38;5;66;03m# If we don't have any hooks, we want to skip the rest of the logic in\u001B[39;00m\n\u001B[0;32m   1497\u001B[0m \u001B[38;5;66;03m# this function, and just call forward.\u001B[39;00m\n\u001B[0;32m   1498\u001B[0m \u001B[38;5;28;01mif\u001B[39;00m \u001B[38;5;129;01mnot\u001B[39;00m (\u001B[38;5;28mself\u001B[39m\u001B[38;5;241m.\u001B[39m_backward_hooks \u001B[38;5;129;01mor\u001B[39;00m \u001B[38;5;28mself\u001B[39m\u001B[38;5;241m.\u001B[39m_backward_pre_hooks \u001B[38;5;129;01mor\u001B[39;00m \u001B[38;5;28mself\u001B[39m\u001B[38;5;241m.\u001B[39m_forward_hooks \u001B[38;5;129;01mor\u001B[39;00m \u001B[38;5;28mself\u001B[39m\u001B[38;5;241m.\u001B[39m_forward_pre_hooks\n\u001B[0;32m   1499\u001B[0m         \u001B[38;5;129;01mor\u001B[39;00m _global_backward_pre_hooks \u001B[38;5;129;01mor\u001B[39;00m _global_backward_hooks\n\u001B[0;32m   1500\u001B[0m         \u001B[38;5;129;01mor\u001B[39;00m _global_forward_hooks \u001B[38;5;129;01mor\u001B[39;00m _global_forward_pre_hooks):\n\u001B[1;32m-> 1501\u001B[0m     \u001B[38;5;28;01mreturn\u001B[39;00m forward_call(\u001B[38;5;241m*\u001B[39margs, \u001B[38;5;241m*\u001B[39m\u001B[38;5;241m*\u001B[39mkwargs)\n\u001B[0;32m   1502\u001B[0m \u001B[38;5;66;03m# Do not call functions when jit is used\u001B[39;00m\n\u001B[0;32m   1503\u001B[0m full_backward_hooks, non_full_backward_hooks \u001B[38;5;241m=\u001B[39m [], []\n",
      "File \u001B[1;32m~\\AppData\\Local\\Programs\\Python\\Python39\\lib\\site-packages\\torch\\nn\\modules\\container.py:217\u001B[0m, in \u001B[0;36mSequential.forward\u001B[1;34m(self, input)\u001B[0m\n\u001B[0;32m    215\u001B[0m \u001B[38;5;28;01mdef\u001B[39;00m \u001B[38;5;21mforward\u001B[39m(\u001B[38;5;28mself\u001B[39m, \u001B[38;5;28minput\u001B[39m):\n\u001B[0;32m    216\u001B[0m     \u001B[38;5;28;01mfor\u001B[39;00m module \u001B[38;5;129;01min\u001B[39;00m \u001B[38;5;28mself\u001B[39m:\n\u001B[1;32m--> 217\u001B[0m         \u001B[38;5;28minput\u001B[39m \u001B[38;5;241m=\u001B[39m \u001B[43mmodule\u001B[49m\u001B[43m(\u001B[49m\u001B[38;5;28;43minput\u001B[39;49m\u001B[43m)\u001B[49m\n\u001B[0;32m    218\u001B[0m     \u001B[38;5;28;01mreturn\u001B[39;00m \u001B[38;5;28minput\u001B[39m\n",
      "File \u001B[1;32m~\\AppData\\Local\\Programs\\Python\\Python39\\lib\\site-packages\\torch\\nn\\modules\\module.py:1501\u001B[0m, in \u001B[0;36mModule._call_impl\u001B[1;34m(self, *args, **kwargs)\u001B[0m\n\u001B[0;32m   1496\u001B[0m \u001B[38;5;66;03m# If we don't have any hooks, we want to skip the rest of the logic in\u001B[39;00m\n\u001B[0;32m   1497\u001B[0m \u001B[38;5;66;03m# this function, and just call forward.\u001B[39;00m\n\u001B[0;32m   1498\u001B[0m \u001B[38;5;28;01mif\u001B[39;00m \u001B[38;5;129;01mnot\u001B[39;00m (\u001B[38;5;28mself\u001B[39m\u001B[38;5;241m.\u001B[39m_backward_hooks \u001B[38;5;129;01mor\u001B[39;00m \u001B[38;5;28mself\u001B[39m\u001B[38;5;241m.\u001B[39m_backward_pre_hooks \u001B[38;5;129;01mor\u001B[39;00m \u001B[38;5;28mself\u001B[39m\u001B[38;5;241m.\u001B[39m_forward_hooks \u001B[38;5;129;01mor\u001B[39;00m \u001B[38;5;28mself\u001B[39m\u001B[38;5;241m.\u001B[39m_forward_pre_hooks\n\u001B[0;32m   1499\u001B[0m         \u001B[38;5;129;01mor\u001B[39;00m _global_backward_pre_hooks \u001B[38;5;129;01mor\u001B[39;00m _global_backward_hooks\n\u001B[0;32m   1500\u001B[0m         \u001B[38;5;129;01mor\u001B[39;00m _global_forward_hooks \u001B[38;5;129;01mor\u001B[39;00m _global_forward_pre_hooks):\n\u001B[1;32m-> 1501\u001B[0m     \u001B[38;5;28;01mreturn\u001B[39;00m forward_call(\u001B[38;5;241m*\u001B[39margs, \u001B[38;5;241m*\u001B[39m\u001B[38;5;241m*\u001B[39mkwargs)\n\u001B[0;32m   1502\u001B[0m \u001B[38;5;66;03m# Do not call functions when jit is used\u001B[39;00m\n\u001B[0;32m   1503\u001B[0m full_backward_hooks, non_full_backward_hooks \u001B[38;5;241m=\u001B[39m [], []\n",
      "File \u001B[1;32m~\\AppData\\Local\\Programs\\Python\\Python39\\lib\\site-packages\\torch\\nn\\modules\\linear.py:114\u001B[0m, in \u001B[0;36mLinear.forward\u001B[1;34m(self, input)\u001B[0m\n\u001B[0;32m    113\u001B[0m \u001B[38;5;28;01mdef\u001B[39;00m \u001B[38;5;21mforward\u001B[39m(\u001B[38;5;28mself\u001B[39m, \u001B[38;5;28minput\u001B[39m: Tensor) \u001B[38;5;241m-\u001B[39m\u001B[38;5;241m>\u001B[39m Tensor:\n\u001B[1;32m--> 114\u001B[0m     \u001B[38;5;28;01mreturn\u001B[39;00m \u001B[43mF\u001B[49m\u001B[38;5;241;43m.\u001B[39;49m\u001B[43mlinear\u001B[49m\u001B[43m(\u001B[49m\u001B[38;5;28;43minput\u001B[39;49m\u001B[43m,\u001B[49m\u001B[43m \u001B[49m\u001B[38;5;28;43mself\u001B[39;49m\u001B[38;5;241;43m.\u001B[39;49m\u001B[43mweight\u001B[49m\u001B[43m,\u001B[49m\u001B[43m \u001B[49m\u001B[38;5;28;43mself\u001B[39;49m\u001B[38;5;241;43m.\u001B[39;49m\u001B[43mbias\u001B[49m\u001B[43m)\u001B[49m\n",
      "\u001B[1;31mRuntimeError\u001B[0m: mat1 and mat2 shapes cannot be multiplied (896x28 and 784x64)"
     ]
    }
   ],
   "source": [
    "for img, label in test_loader:\n",
    "    print(img.shape)\n",
    "    preds = model(img)\n",
    "    break\n",
    "print(\"Predicted:\", preds.argmax(1))\n",
    "print(\"Actual:\", label)\n"
   ],
   "metadata": {
    "collapsed": false,
    "ExecuteTime": {
     "end_time": "2023-07-09T17:59:54.977075900Z",
     "start_time": "2023-07-09T17:59:54.788658300Z"
    }
   }
  },
  {
   "cell_type": "markdown",
   "source": [
    "# visualize the weights and biases"
   ],
   "metadata": {
    "collapsed": false
   }
  },
  {
   "cell_type": "code",
   "execution_count": 30,
   "outputs": [
    {
     "name": "stdout",
     "output_type": "stream",
     "text": [
      "torch.Size([64, 784]) torch.Size([64])\n"
     ]
    }
   ],
   "source": [
    "# Get the weights and biases\n",
    "weights = model[0].weight.data\n",
    "biases = model[0].bias.data\n",
    "print(weights.shape, biases.shape)"
   ],
   "metadata": {
    "collapsed": false,
    "ExecuteTime": {
     "end_time": "2023-07-09T18:05:21.938743800Z",
     "start_time": "2023-07-09T18:05:21.848735900Z"
    }
   }
  },
  {
   "cell_type": "markdown",
   "source": [
    "# Reshape the weights into 28x28 images"
   ],
   "metadata": {
    "collapsed": false
   }
  },
  {
   "cell_type": "code",
   "execution_count": 31,
   "outputs": [
    {
     "data": {
      "text/plain": "<Figure size 1500x600 with 10 Axes>",
      "image/png": "[encoded data removed]"
     },
     "metadata": {},
     "output_type": "display_data"
    }
   ],
   "source": [
    "fig, axs = plt.subplots(2, 5, figsize=(15, 6))\n",
    "axs = axs.flatten()\n",
    "for i, ax in enumerate(axs):\n",
    "    ax.imshow(weights[i].view(28, 28), cmap='gray')\n",
    "    ax.axis('off')\n",
    "    ax.set_title(str(i))\n",
    "plt.show()\n"
   ],
   "metadata": {
    "collapsed": false,
    "ExecuteTime": {
     "end_time": "2023-07-09T18:05:43.677774Z",
     "start_time": "2023-07-09T18:05:42.785753900Z"
    }
   }
  },
  {
   "cell_type": "markdown",
   "source": [],
   "metadata": {
    "collapsed": false
   }
  },
  {
   "cell_type": "markdown",
   "source": [
    "# Visualize the activations"
   ],
   "metadata": {
    "collapsed": false
   }
  },
  {
   "cell_type": "code",
   "execution_count": 34,
   "outputs": [],
   "source": [
    "outputs = (32, 10)"
   ],
   "metadata": {
    "collapsed": false,
    "ExecuteTime": {
     "end_time": "2023-07-09T18:06:47.353729Z",
     "start_time": "2023-07-09T18:06:47.238806500Z"
    }
   }
  },
  {
   "cell_type": "code",
   "execution_count": 35,
   "outputs": [
    {
     "name": "stdout",
     "output_type": "stream",
     "text": [
      "torch.Size([32, 1, 28, 28])\n"
     ]
    },
    {
     "ename": "RuntimeError",
     "evalue": "mat1 and mat2 shapes cannot be multiplied (896x28 and 784x64)",
     "output_type": "error",
     "traceback": [
      "\u001B[1;31m---------------------------------------------------------------------------\u001B[0m",
      "\u001B[1;31mRuntimeError\u001B[0m                              Traceback (most recent call last)",
      "Cell \u001B[1;32mIn[35], line 4\u001B[0m\n\u001B[0;32m      2\u001B[0m \u001B[38;5;28;01mfor\u001B[39;00m images, labels \u001B[38;5;129;01min\u001B[39;00m train_loader:\n\u001B[0;32m      3\u001B[0m     \u001B[38;5;28mprint\u001B[39m(images\u001B[38;5;241m.\u001B[39mshape)\n\u001B[1;32m----> 4\u001B[0m     outputs \u001B[38;5;241m=\u001B[39m \u001B[43mmodel\u001B[49m\u001B[43m(\u001B[49m\u001B[43mimages\u001B[49m\u001B[43m)\u001B[49m\n\u001B[0;32m      5\u001B[0m     \u001B[38;5;28;01mbreak\u001B[39;00m\n\u001B[0;32m      6\u001B[0m \u001B[38;5;28mprint\u001B[39m(\u001B[38;5;124m'\u001B[39m\u001B[38;5;124mOutputs.shape : \u001B[39m\u001B[38;5;124m'\u001B[39m, outputs\u001B[38;5;241m.\u001B[39mshape)\n",
      "File \u001B[1;32m~\\AppData\\Local\\Programs\\Python\\Python39\\lib\\site-packages\\torch\\nn\\modules\\module.py:1501\u001B[0m, in \u001B[0;36mModule._call_impl\u001B[1;34m(self, *args, **kwargs)\u001B[0m\n\u001B[0;32m   1496\u001B[0m \u001B[38;5;66;03m# If we don't have any hooks, we want to skip the rest of the logic in\u001B[39;00m\n\u001B[0;32m   1497\u001B[0m \u001B[38;5;66;03m# this function, and just call forward.\u001B[39;00m\n\u001B[0;32m   1498\u001B[0m \u001B[38;5;28;01mif\u001B[39;00m \u001B[38;5;129;01mnot\u001B[39;00m (\u001B[38;5;28mself\u001B[39m\u001B[38;5;241m.\u001B[39m_backward_hooks \u001B[38;5;129;01mor\u001B[39;00m \u001B[38;5;28mself\u001B[39m\u001B[38;5;241m.\u001B[39m_backward_pre_hooks \u001B[38;5;129;01mor\u001B[39;00m \u001B[38;5;28mself\u001B[39m\u001B[38;5;241m.\u001B[39m_forward_hooks \u001B[38;5;129;01mor\u001B[39;00m \u001B[38;5;28mself\u001B[39m\u001B[38;5;241m.\u001B[39m_forward_pre_hooks\n\u001B[0;32m   1499\u001B[0m         \u001B[38;5;129;01mor\u001B[39;00m _global_backward_pre_hooks \u001B[38;5;129;01mor\u001B[39;00m _global_backward_hooks\n\u001B[0;32m   1500\u001B[0m         \u001B[38;5;129;01mor\u001B[39;00m _global_forward_hooks \u001B[38;5;129;01mor\u001B[39;00m _global_forward_pre_hooks):\n\u001B[1;32m-> 1501\u001B[0m     \u001B[38;5;28;01mreturn\u001B[39;00m forward_call(\u001B[38;5;241m*\u001B[39margs, \u001B[38;5;241m*\u001B[39m\u001B[38;5;241m*\u001B[39mkwargs)\n\u001B[0;32m   1502\u001B[0m \u001B[38;5;66;03m# Do not call functions when jit is used\u001B[39;00m\n\u001B[0;32m   1503\u001B[0m full_backward_hooks, non_full_backward_hooks \u001B[38;5;241m=\u001B[39m [], []\n",
      "File \u001B[1;32m~\\AppData\\Local\\Programs\\Python\\Python39\\lib\\site-packages\\torch\\nn\\modules\\container.py:217\u001B[0m, in \u001B[0;36mSequential.forward\u001B[1;34m(self, input)\u001B[0m\n\u001B[0;32m    215\u001B[0m \u001B[38;5;28;01mdef\u001B[39;00m \u001B[38;5;21mforward\u001B[39m(\u001B[38;5;28mself\u001B[39m, \u001B[38;5;28minput\u001B[39m):\n\u001B[0;32m    216\u001B[0m     \u001B[38;5;28;01mfor\u001B[39;00m module \u001B[38;5;129;01min\u001B[39;00m \u001B[38;5;28mself\u001B[39m:\n\u001B[1;32m--> 217\u001B[0m         \u001B[38;5;28minput\u001B[39m \u001B[38;5;241m=\u001B[39m \u001B[43mmodule\u001B[49m\u001B[43m(\u001B[49m\u001B[38;5;28;43minput\u001B[39;49m\u001B[43m)\u001B[49m\n\u001B[0;32m    218\u001B[0m     \u001B[38;5;28;01mreturn\u001B[39;00m \u001B[38;5;28minput\u001B[39m\n",
      "File \u001B[1;32m~\\AppData\\Local\\Programs\\Python\\Python39\\lib\\site-packages\\torch\\nn\\modules\\module.py:1501\u001B[0m, in \u001B[0;36mModule._call_impl\u001B[1;34m(self, *args, **kwargs)\u001B[0m\n\u001B[0;32m   1496\u001B[0m \u001B[38;5;66;03m# If we don't have any hooks, we want to skip the rest of the logic in\u001B[39;00m\n\u001B[0;32m   1497\u001B[0m \u001B[38;5;66;03m# this function, and just call forward.\u001B[39;00m\n\u001B[0;32m   1498\u001B[0m \u001B[38;5;28;01mif\u001B[39;00m \u001B[38;5;129;01mnot\u001B[39;00m (\u001B[38;5;28mself\u001B[39m\u001B[38;5;241m.\u001B[39m_backward_hooks \u001B[38;5;129;01mor\u001B[39;00m \u001B[38;5;28mself\u001B[39m\u001B[38;5;241m.\u001B[39m_backward_pre_hooks \u001B[38;5;129;01mor\u001B[39;00m \u001B[38;5;28mself\u001B[39m\u001B[38;5;241m.\u001B[39m_forward_hooks \u001B[38;5;129;01mor\u001B[39;00m \u001B[38;5;28mself\u001B[39m\u001B[38;5;241m.\u001B[39m_forward_pre_hooks\n\u001B[0;32m   1499\u001B[0m         \u001B[38;5;129;01mor\u001B[39;00m _global_backward_pre_hooks \u001B[38;5;129;01mor\u001B[39;00m _global_backward_hooks\n\u001B[0;32m   1500\u001B[0m         \u001B[38;5;129;01mor\u001B[39;00m _global_forward_hooks \u001B[38;5;129;01mor\u001B[39;00m _global_forward_pre_hooks):\n\u001B[1;32m-> 1501\u001B[0m     \u001B[38;5;28;01mreturn\u001B[39;00m forward_call(\u001B[38;5;241m*\u001B[39margs, \u001B[38;5;241m*\u001B[39m\u001B[38;5;241m*\u001B[39mkwargs)\n\u001B[0;32m   1502\u001B[0m \u001B[38;5;66;03m# Do not call functions when jit is used\u001B[39;00m\n\u001B[0;32m   1503\u001B[0m full_backward_hooks, non_full_backward_hooks \u001B[38;5;241m=\u001B[39m [], []\n",
      "File \u001B[1;32m~\\AppData\\Local\\Programs\\Python\\Python39\\lib\\site-packages\\torch\\nn\\modules\\linear.py:114\u001B[0m, in \u001B[0;36mLinear.forward\u001B[1;34m(self, input)\u001B[0m\n\u001B[0;32m    113\u001B[0m \u001B[38;5;28;01mdef\u001B[39;00m \u001B[38;5;21mforward\u001B[39m(\u001B[38;5;28mself\u001B[39m, \u001B[38;5;28minput\u001B[39m: Tensor) \u001B[38;5;241m-\u001B[39m\u001B[38;5;241m>\u001B[39m Tensor:\n\u001B[1;32m--> 114\u001B[0m     \u001B[38;5;28;01mreturn\u001B[39;00m \u001B[43mF\u001B[49m\u001B[38;5;241;43m.\u001B[39;49m\u001B[43mlinear\u001B[49m\u001B[43m(\u001B[49m\u001B[38;5;28;43minput\u001B[39;49m\u001B[43m,\u001B[49m\u001B[43m \u001B[49m\u001B[38;5;28;43mself\u001B[39;49m\u001B[38;5;241;43m.\u001B[39;49m\u001B[43mweight\u001B[49m\u001B[43m,\u001B[49m\u001B[43m \u001B[49m\u001B[38;5;28;43mself\u001B[39;49m\u001B[38;5;241;43m.\u001B[39;49m\u001B[43mbias\u001B[49m\u001B[43m)\u001B[49m\n",
      "\u001B[1;31mRuntimeError\u001B[0m: mat1 and mat2 shapes cannot be multiplied (896x28 and 784x64)"
     ]
    }
   ],
   "source": [
    "# Get the activations using our model\n",
    "for images, labels in train_loader:\n",
    "    print(images.shape)\n",
    "    outputs = model(images)\n",
    "    break\n",
    "print('Outputs.shape : ', outputs.shape)\n",
    "print('Sample outputs :\\n', outputs[:2].data)"
   ],
   "metadata": {
    "collapsed": false,
    "ExecuteTime": {
     "end_time": "2023-07-09T18:06:49.197679900Z",
     "start_time": "2023-07-09T18:06:49.027415500Z"
    }
   }
  },
  {
   "cell_type": "markdown",
   "source": [
    "# save and close the notebook"
   ],
   "metadata": {
    "collapsed": false
   }
  },
  {
   "cell_type": "code",
   "execution_count": 47,
   "outputs": [
    {
     "data": {
      "text/plain": "1"
     },
     "execution_count": 47,
     "metadata": {},
     "output_type": "execute_result"
    }
   ],
   "source": [
    "from subprocess import call\n",
    "call(['python', '-m', 'nbconvert', 'MNIST.ipynb'])\n",
    "os.system('jupyter nbconvert --to tml MNIST.ipynb')\n",
    "os.system('jupyter nbconvert --to html MNIST.ipynb')"
   ],
   "metadata": {
    "collapsed": false,
    "ExecuteTime": {
     "end_time": "2023-07-09T18:24:35.510664500Z",
     "start_time": "2023-07-09T18:24:30.380090900Z"
    }
   }
  }
 ],
 "metadata": {
  "kernelspec": {
   "display_name": "Python 3",
   "language": "python",
   "name": "python3"
  },
  "language_info": {
   "codemirror_mode": {
    "name": "ipython",
    "version": 2
   },
   "file_extension": ".py",
   "mimetype": "text/x-python",
   "name": "python",
   "nbconvert_exporter": "python",
   "pygments_lexer": "ipython2",
   "version": "2.7.6"
  }
 },
 "nbformat": 4,
 "nbformat_minor": 0
}
